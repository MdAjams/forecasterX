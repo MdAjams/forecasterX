{
 "cells": [
  {
   "cell_type": "code",
   "execution_count": 2,
   "id": "d60e95bd-1e92-4592-9efa-453e5dfdab93",
   "metadata": {},
   "outputs": [],
   "source": [
    "import pandas as pd"
   ]
  },
  {
   "cell_type": "code",
   "execution_count": 8,
   "id": "aef65021-57a0-4ea9-93a6-ccf9836854c4",
   "metadata": {},
   "outputs": [
    {
     "name": "stdout",
     "output_type": "stream",
     "text": [
      "Feature engineering completed and saved to 'weather_data_with_features.csv'\n"
     ]
    }
   ],
   "source": [
    "# feature_engineering.py\n",
    "\n",
    "import pandas as pd\n",
    "from sklearn.preprocessing import MinMaxScaler, LabelEncoder\n",
    "\n",
    "# Load your cleaned data\n",
    "df = pd.read_csv(\"cleaned_weather_data.csv\", parse_dates=['date_time'])\n",
    "\n",
    "# Time-based Features\n",
    "df['year'] = df['date_time'].dt.year\n",
    "df['month'] = df['date_time'].dt.month\n",
    "df['day'] = df['date_time'].dt.day\n",
    "df['hour'] = df['date_time'].dt.hour\n",
    "df['weekday'] = df['date_time'].dt.weekday\n",
    "df['is_weekend'] = df['weekday'].isin([5, 6]).astype(int)\n",
    "\n",
    "# Season Feature\n",
    "def get_season(month):\n",
    "    if month in [12, 1, 2]:\n",
    "        return 'Winter'\n",
    "    elif month in [3, 4, 5]:\n",
    "        return 'Spring'\n",
    "    elif month in [6, 7, 8]:\n",
    "        return 'Summer'\n",
    "    else:\n",
    "        return 'Fall'\n",
    "\n",
    "df['season'] = df['month'].apply(get_season)\n",
    "\n",
    "# Wind Direction Label\n",
    "def wind_direction_label(degree):\n",
    "    directions = ['N', 'NE', 'E', 'SE', 'S', 'SW', 'W', 'NW']\n",
    "    idx = int((degree + 22.5) // 45) % 8\n",
    "    return directions[idx]\n",
    "\n",
    "df['wind_dir_label'] = df['wind_direction'].apply(wind_direction_label)\n",
    "\n",
    "# Encode categorical features\n",
    "le = LabelEncoder()\n",
    "df['season_encoded'] = le.fit_transform(df['season'])\n",
    "df['wind_dir_encoded'] = le.fit_transform(df['wind_dir_label'])\n",
    "\n",
    "# Scale numerical features\n",
    "scaler = MinMaxScaler()\n",
    "numerical_cols = ['temperature', 'humidity', 'wind_speed', 'pressure', 'precipitation', 'cloud_coverage']\n",
    "df[numerical_cols] = scaler.fit_transform(df[numerical_cols])\n",
    "\n",
    "# Save engineered features to new CSV\n",
    "df.to_csv(\"weather_data_with_features.csv\", index=False)\n",
    "\n",
    "print(\"Feature engineering completed and saved to 'weather_data_with_features.csv'\")\n"
   ]
  },
  {
   "cell_type": "code",
   "execution_count": null,
   "id": "4631309d-b788-4593-935b-501af1f98f96",
   "metadata": {},
   "outputs": [],
   "source": []
  }
 ],
 "metadata": {
  "kernelspec": {
   "display_name": "Python [conda env:base] *",
   "language": "python",
   "name": "conda-base-py"
  },
  "language_info": {
   "codemirror_mode": {
    "name": "ipython",
    "version": 3
   },
   "file_extension": ".py",
   "mimetype": "text/x-python",
   "name": "python",
   "nbconvert_exporter": "python",
   "pygments_lexer": "ipython3",
   "version": "3.12.7"
  }
 },
 "nbformat": 4,
 "nbformat_minor": 5
}
